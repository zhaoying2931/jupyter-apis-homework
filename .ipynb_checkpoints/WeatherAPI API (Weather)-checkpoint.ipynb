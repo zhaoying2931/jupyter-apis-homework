{
 "cells": [
  {
   "cell_type": "markdown",
   "metadata": {},
   "source": [
    "# WeatherAPI (Weather)\n",
    "\n",
    "Answer the following questions using [WeatherAPI](http://www.weatherapi.com/). I've added three cells for most questions but you're free to use more or less! Hold `Shift` and hit `Enter` to run a cell, and use the `+` on the top left to add a new cell to a notebook.\n",
    "\n",
    "Be sure to take advantage of both the documentation and the API Explorer!\n",
    "\n",
    "## 0) Import any libraries you might need\n",
    "\n",
    "- *Tip: We're going to be downloading things from the internet, so we probably need `requests`.*\n",
    "- *Tip: Remember you only need to import requests once!*"
   ]
  },
  {
   "cell_type": "code",
   "execution_count": 5,
   "metadata": {},
   "outputs": [],
   "source": [
    "import requests"
   ]
  },
  {
   "cell_type": "code",
   "execution_count": 1,
   "metadata": {},
   "outputs": [
    {
     "name": "stdout",
     "output_type": "stream",
     "text": [
      "Requirement already satisfied: python-dotenv in /Users/yingzhao/.pyenv/versions/3.8.10/lib/python3.8/site-packages (0.18.0)\r\n"
     ]
    }
   ],
   "source": [
    "!pip install python-dotenv"
   ]
  },
  {
   "cell_type": "code",
   "execution_count": 2,
   "metadata": {},
   "outputs": [
    {
     "ename": "SyntaxError",
     "evalue": "invalid syntax (<ipython-input-2-b4e0c5adb9ea>, line 1)",
     "output_type": "error",
     "traceback": [
      "\u001b[0;36m  File \u001b[0;32m\"<ipython-input-2-b4e0c5adb9ea>\"\u001b[0;36m, line \u001b[0;32m1\u001b[0m\n\u001b[0;31m    WEATHER_API_KEY = 22c65712ceb44c36821235813211806\u001b[0m\n\u001b[0m                        ^\u001b[0m\n\u001b[0;31mSyntaxError\u001b[0m\u001b[0;31m:\u001b[0m invalid syntax\n"
     ]
    }
   ],
   "source": []
  },
  {
   "cell_type": "code",
   "execution_count": 3,
   "metadata": {},
   "outputs": [],
   "source": [
    "import os\n",
    "from dotenv import load_dotenv\n",
    "load_dotenv()\n",
    "\n",
    "API_KEY = os.getenv('WEATHER_API_KEY')"
   ]
  },
  {
   "cell_type": "markdown",
   "metadata": {
    "collapsed": true
   },
   "source": [
    "## 1) Make a request to the Weather API for where you were born (or lived, or want to visit!).\n",
    "\n",
    "- *Tip: This sure seems familiar.*"
   ]
  },
  {
   "cell_type": "code",
   "execution_count": 6,
   "metadata": {},
   "outputs": [],
   "source": [
    "response = requests.get(\"http://api.weatherapi.com/v1/current.json?key={WEATHER_API_KEY}&q=Shanghai\")"
   ]
  },
  {
   "cell_type": "code",
   "execution_count": 14,
   "metadata": {},
   "outputs": [],
   "source": [
    "shanghai_data = response.json()"
   ]
  },
  {
   "cell_type": "code",
   "execution_count": null,
   "metadata": {
    "collapsed": true
   },
   "outputs": [],
   "source": []
  },
  {
   "cell_type": "markdown",
   "metadata": {},
   "source": [
    "## 2) What's the current wind speed, and how much warmer does it feel than it actually is?\n",
    "\n",
    "- *Tip: You can do this by browsing through the dictionaries, but it might be easier to read the documentation*\n",
    "- *Tip: For the second half: it **is** one temperature, and it **feels** a different temperature. Calculate the difference. Same as we did last time!*"
   ]
  },
  {
   "cell_type": "code",
   "execution_count": 15,
   "metadata": {},
   "outputs": [
    {
     "name": "stdout",
     "output_type": "stream",
     "text": [
      "0.0\n"
     ]
    }
   ],
   "source": [
    "print(shanghai_data['current']['wind_kph'])"
   ]
  },
  {
   "cell_type": "code",
   "execution_count": 16,
   "metadata": {},
   "outputs": [],
   "source": [
    "current_temp = shanghai_data['current']['temp_c']"
   ]
  },
  {
   "cell_type": "code",
   "execution_count": 17,
   "metadata": {},
   "outputs": [],
   "source": [
    "feelslike_temp = shanghai_data['current']['feelslike_c']"
   ]
  },
  {
   "cell_type": "code",
   "execution_count": 18,
   "metadata": {},
   "outputs": [],
   "source": [
    "difference_temp = abs(current_temp - feelslike_temp)"
   ]
  },
  {
   "cell_type": "code",
   "execution_count": 21,
   "metadata": {},
   "outputs": [
    {
     "name": "stdout",
     "output_type": "stream",
     "text": [
      "It feels 2.5 degree warmer than it actually is.\n"
     ]
    }
   ],
   "source": [
    "if current_temp > feelslike_temp:\n",
    "    print(f\"It feels {difference_temp} degree colder than it actually is.\")\n",
    "else:\n",
    "    print(f\"It feels {difference_temp} degree warmer than it actually is.\")"
   ]
  },
  {
   "cell_type": "markdown",
   "metadata": {},
   "source": [
    "## 3) What is the API endpoint for moon-related information? For the place you decided on above, how much of the moon will be visible on next Thursday?\n",
    "\n",
    "- *Tip: Check the documentation!*\n",
    "- *Tip: If you aren't sure what something means, ask in Slack*"
   ]
  },
  {
   "cell_type": "code",
   "execution_count": 22,
   "metadata": {},
   "outputs": [
    {
     "name": "stdout",
     "output_type": "stream",
     "text": [
      "moonrise, moonset, moon_phase, and moon_illumination\n"
     ]
    }
   ],
   "source": [
    "print(\"moonrise, moonset, moon_phase, and moon_illumination\")"
   ]
  },
  {
   "cell_type": "code",
   "execution_count": 24,
   "metadata": {},
   "outputs": [],
   "source": [
    "moon = requests.get(\"http://api.weatherapi.com/v1/astronomy.json?key={WEAHTER_API_KEY}&q=Shanghai&dt=2021-06-24\"\n",
    "                   )"
   ]
  },
  {
   "cell_type": "code",
   "execution_count": 25,
   "metadata": {},
   "outputs": [],
   "source": [
    "moon_data = moon.json()"
   ]
  },
  {
   "cell_type": "code",
   "execution_count": 26,
   "metadata": {},
   "outputs": [
    {
     "name": "stdout",
     "output_type": "stream",
     "text": [
      "The moon will be 100 percent visible on next Thursday\n"
     ]
    }
   ],
   "source": [
    "print(f\"The moon will be {moon_data['astronomy']['astro']['moon_illumination']} percent visible on next Thursday\")"
   ]
  },
  {
   "cell_type": "markdown",
   "metadata": {},
   "source": [
    "## 4) What's the difference between the high and low temperatures for today?\n",
    "\n",
    "- *Tip: When you requested moon data, you probably overwrote your variables! If so, you'll need to make a new request.*"
   ]
  },
  {
   "cell_type": "code",
   "execution_count": 27,
   "metadata": {},
   "outputs": [],
   "source": [
    "today = requests.get(\"http://api.weatherapi.com/v1/forecast.json?key={WEAHTER_API_KEY}&q=Shanghai&days=1&aqi=no&alerts=no\")"
   ]
  },
  {
   "cell_type": "code",
   "execution_count": 28,
   "metadata": {},
   "outputs": [],
   "source": [
    "today_data = today.json()"
   ]
  },
  {
   "cell_type": "code",
   "execution_count": 34,
   "metadata": {},
   "outputs": [],
   "source": [
    "today_forecast = today_data['forecast']['forecastday']"
   ]
  },
  {
   "cell_type": "code",
   "execution_count": 41,
   "metadata": {},
   "outputs": [
    {
     "name": "stdout",
     "output_type": "stream",
     "text": [
      "The difference between the hign and low temperatures for today is 4.0 degrees.\n"
     ]
    }
   ],
   "source": [
    "for items in today_forecast:\n",
    "    high_temp = items['day']['maxtemp_c']\n",
    "    low_temp = items['day']['mintemp_c']\n",
    "    difference = high_temp - low_temp\n",
    "print(f\"The difference between the hign and low temperatures for today is {difference} degrees.\")"
   ]
  },
  {
   "cell_type": "markdown",
   "metadata": {
    "collapsed": true
   },
   "source": [
    "## 4.5) How can you avoid the \"oh no I don't have the data any more because I made another request\" problem in the future?\n",
    "\n",
    "What variable(s) do you have to rename, and what would you rename them?"
   ]
  },
  {
   "cell_type": "code",
   "execution_count": null,
   "metadata": {},
   "outputs": [],
   "source": [
    "print(\"Don't use the same name for different requests.get() objects.\")"
   ]
  },
  {
   "cell_type": "code",
   "execution_count": null,
   "metadata": {},
   "outputs": [],
   "source": [
    "print(\"I usually rename these objects according to what I am looking for in the dataset.\")"
   ]
  },
  {
   "cell_type": "markdown",
   "metadata": {},
   "source": [
    "## 5) Go through the daily forecasts, printing out the next week's worth of predictions.\n",
    "\n",
    "I'd like to know the **high temperature** for each day, and whether it's **hot, warm, or cold** (based on what temperatures you think are hot, warm or cold).\n",
    "\n",
    "- *Tip: You'll need to use an `if` statement to say whether it is hot, warm or cold.*"
   ]
  },
  {
   "cell_type": "code",
   "execution_count": 102,
   "metadata": {},
   "outputs": [],
   "source": [
    "next_week = requests.get(\"http://api.weatherapi.com/v1/forecast.json?key={WEAHTER_API_KEY}&q=Shanghai&days=9&aqi=no&alerts=no\")"
   ]
  },
  {
   "cell_type": "code",
   "execution_count": 103,
   "metadata": {},
   "outputs": [],
   "source": [
    "next_week_data = next_week.json()"
   ]
  },
  {
   "cell_type": "code",
   "execution_count": 104,
   "metadata": {},
   "outputs": [],
   "source": [
    "next_week_forecast = next_week_data['forecast']['forecastday']"
   ]
  },
  {
   "cell_type": "code",
   "execution_count": 105,
   "metadata": {},
   "outputs": [],
   "source": [
    "for days in next_week_forecast:\n",
    "    if days['date'] == \"2021-06-21\":\n",
    "        mon_high_temp = days['day']['maxtemp_c']\n",
    "    elif days['date'] == \"2021-06-22\":\n",
    "        tue_high_temp = days['day']['maxtemp_c']\n",
    "    "
   ]
  },
  {
   "cell_type": "code",
   "execution_count": 111,
   "metadata": {},
   "outputs": [],
   "source": [
    "next_high_temp ={\n",
    "    \"Monday\": mon_high_temp,\n",
    "    \"Tuesday\": tue_high_temp,\n",
    "}\n"
   ]
  },
  {
   "cell_type": "code",
   "execution_count": 112,
   "metadata": {},
   "outputs": [
    {
     "name": "stdout",
     "output_type": "stream",
     "text": [
      "Next Monday is warm.\n",
      "Next Tuesday is hot.\n"
     ]
    }
   ],
   "source": [
    "\n",
    "for key, value in next_high_temp.items():\n",
    "    if value > 30:\n",
    "        print(f\"Next {key} is hot.\")\n",
    "    elif 30 > value > 20:\n",
    "        print(f\"Next {key} is warm.\")\n",
    "    elif value < 20:\n",
    "        print(f\"Next {key} is cold.\")"
   ]
  },
  {
   "cell_type": "markdown",
   "metadata": {},
   "source": [
    "# 6) What will be the hottest day in the next week? What is the high temperature on that day?"
   ]
  },
  {
   "cell_type": "code",
   "execution_count": 113,
   "metadata": {},
   "outputs": [
    {
     "name": "stdout",
     "output_type": "stream",
     "text": [
      "Tuesday is the hottest day in the next week and the highest temperatue on that day is 31.8 degrees.\n"
     ]
    }
   ],
   "source": [
    "print(f\"Tuesday is the hottest day in the next week and the highest temperatue on that day is {tue_high_temp} degrees.\")"
   ]
  },
  {
   "cell_type": "code",
   "execution_count": null,
   "metadata": {
    "collapsed": true
   },
   "outputs": [],
   "source": []
  },
  {
   "cell_type": "code",
   "execution_count": null,
   "metadata": {
    "collapsed": true
   },
   "outputs": [],
   "source": []
  },
  {
   "cell_type": "markdown",
   "metadata": {},
   "source": [
    "## 7) What's the weather looking like for the next 24+ hours in Miami, Florida?\n",
    "\n",
    "I'd like to know the temperature for every hour, and if it's going to have cloud cover of more than 50% say \"{temperature} and cloudy\" instead of just the temperature. \n",
    "\n",
    "- *Tip: You'll only need one day of forecast*"
   ]
  },
  {
   "cell_type": "code",
   "execution_count": 114,
   "metadata": {},
   "outputs": [],
   "source": [
    "miami = requests.get(\"http://api.weatherapi.com/v1/forecast.json?key={WEAHTER_API_KEY}&q=Miami&days=1&aqi=no&alerts=no\")"
   ]
  },
  {
   "cell_type": "code",
   "execution_count": 115,
   "metadata": {},
   "outputs": [],
   "source": [
    "miami_data = miami.json()"
   ]
  },
  {
   "cell_type": "code",
   "execution_count": 117,
   "metadata": {},
   "outputs": [],
   "source": [
    "miami_forecast = miami_data['forecast']['forecastday']"
   ]
  },
  {
   "cell_type": "code",
   "execution_count": 139,
   "metadata": {},
   "outputs": [
    {
     "name": "stdout",
     "output_type": "stream",
     "text": [
      "The temperature of 2021-06-20 00:00 is 82.8 degrees .\n",
      "The temperature of 2021-06-20 01:00 is 82.8 degrees .\n",
      "The temperature of 2021-06-20 02:00 is 82.9 degrees .\n",
      "The temperature of 2021-06-20 03:00 is 82.6 degrees .\n",
      "The temperature of 2021-06-20 04:00 is 82.4 degrees .\n",
      "The temperature of 2021-06-20 05:00 is 82.0 degrees and cloudy.\n",
      "The temperature of 2021-06-20 06:00 is 82.0 degrees and cloudy.\n",
      "The temperature of 2021-06-20 07:00 is 81.9 degrees and cloudy.\n",
      "The temperature of 2021-06-20 08:00 is 81.9 degrees and cloudy.\n",
      "The temperature of 2021-06-20 09:00 is 82.6 degrees and cloudy.\n",
      "The temperature of 2021-06-20 10:00 is 83.3 degrees and cloudy.\n",
      "The temperature of 2021-06-20 11:00 is 84.0 degrees and cloudy.\n",
      "The temperature of 2021-06-20 12:00 is 84.4 degrees and cloudy.\n",
      "The temperature of 2021-06-20 13:00 is 84.7 degrees and cloudy.\n",
      "The temperature of 2021-06-20 14:00 is 85.1 degrees and cloudy.\n",
      "The temperature of 2021-06-20 15:00 is 85.1 degrees and cloudy.\n",
      "The temperature of 2021-06-20 16:00 is 85.1 degrees and cloudy.\n",
      "The temperature of 2021-06-20 17:00 is 85.1 degrees .\n",
      "The temperature of 2021-06-20 18:00 is 84.6 degrees .\n",
      "The temperature of 2021-06-20 19:00 is 84.2 degrees .\n",
      "The temperature of 2021-06-20 20:00 is 83.7 degrees .\n",
      "The temperature of 2021-06-20 21:00 is 83.5 degrees .\n",
      "The temperature of 2021-06-20 22:00 is 83.3 degrees and cloudy.\n",
      "The temperature of 2021-06-20 23:00 is 83.1 degrees and cloudy.\n"
     ]
    }
   ],
   "source": [
    "for item in miami_forecast:\n",
    "    hours = item['hour']\n",
    "    for hour in hours:\n",
    "        hour_name = hour['time']\n",
    "        hour_temp = hour['temp_f']\n",
    "        cloud =  hour['cloud']\n",
    "        if cloud > 50:\n",
    "            cloudy = \"and cloudy\"\n",
    "        else:\n",
    "            cloudy = \"\"\n",
    "        print(f\"The temperature of {hour_name} is {hour_temp} degrees {cloudy}.\")\n",
    "    \n"
   ]
  },
  {
   "cell_type": "markdown",
   "metadata": {},
   "source": [
    "# 8) For the next 24-ish hours in Miami, what percent of the time is the temperature above 85 degrees?\n",
    "\n",
    "- *Tip: You might want to read up on [looping patterns](http://jonathansoma.com/lede/foundations-2017/classes/data%20structures/looping-patterns/)*"
   ]
  },
  {
   "cell_type": "code",
   "execution_count": 153,
   "metadata": {},
   "outputs": [],
   "source": [
    "count = 0"
   ]
  },
  {
   "cell_type": "code",
   "execution_count": 154,
   "metadata": {},
   "outputs": [],
   "source": [
    "for item in miami_forecast:\n",
    "    hours = item['hour']\n",
    "    for hour in hours:\n",
    "        hour_temp = hour['temp_f']\n",
    "        if hour_temp > 85:\n",
    "            count = count +1\n",
    "percentage = round(count / 24 *100)"
   ]
  },
  {
   "cell_type": "code",
   "execution_count": 155,
   "metadata": {},
   "outputs": [
    {
     "name": "stdout",
     "output_type": "stream",
     "text": [
      "17 percent of the time is the temperature above 85 degrees.\n"
     ]
    }
   ],
   "source": [
    "print(f\"{percentage} percent of the time is the temperature above 85 degrees.\")"
   ]
  },
  {
   "cell_type": "markdown",
   "metadata": {},
   "source": [
    "## 9) What was the temperature in Central Park on Christmas Day, 2020? How about 2012? 2007? How far back does the API allow you to go?\n",
    "\n",
    "- *Tip: You'll need to use latitude/longitude. You can ask Google where Central Park is, it knows*\n",
    "- *Tip: Remember when latitude/longitude might use negative numbers*"
   ]
  },
  {
   "cell_type": "code",
   "execution_count": null,
   "metadata": {
    "collapsed": true
   },
   "outputs": [],
   "source": []
  },
  {
   "cell_type": "code",
   "execution_count": null,
   "metadata": {
    "collapsed": true
   },
   "outputs": [],
   "source": []
  },
  {
   "cell_type": "code",
   "execution_count": null,
   "metadata": {
    "collapsed": true
   },
   "outputs": [],
   "source": []
  }
 ],
 "metadata": {
  "kernelspec": {
   "display_name": "Python 3",
   "language": "python",
   "name": "python3"
  },
  "language_info": {
   "codemirror_mode": {
    "name": "ipython",
    "version": 3
   },
   "file_extension": ".py",
   "mimetype": "text/x-python",
   "name": "python",
   "nbconvert_exporter": "python",
   "pygments_lexer": "ipython3",
   "version": "3.8.10"
  }
 },
 "nbformat": 4,
 "nbformat_minor": 1
}
