{
 "cells": [
  {
   "cell_type": "code",
   "execution_count": 1,
   "id": "59f45fad",
   "metadata": {},
   "outputs": [
    {
     "name": "stdout",
     "output_type": "stream",
     "text": [
      "usage:\r\n",
      "touch [-A [-][[hh]mm]SS] [-acfhm] [-r file] [-t [[CC]YY]MMDDhhmm[.SS]] file ...\r\n"
     ]
    }
   ],
   "source": [
    "!touch"
   ]
  },
  {
   "cell_type": "code",
   "execution_count": 2,
   "id": "148b6125",
   "metadata": {},
   "outputs": [],
   "source": [
    "!touch .env"
   ]
  },
  {
   "cell_type": "code",
   "execution_count": 3,
   "id": "7903e437",
   "metadata": {},
   "outputs": [
    {
     "ename": "SyntaxError",
     "evalue": "invalid syntax (<ipython-input-3-b4e0c5adb9ea>, line 1)",
     "output_type": "error",
     "traceback": [
      "\u001b[0;36m  File \u001b[0;32m\"<ipython-input-3-b4e0c5adb9ea>\"\u001b[0;36m, line \u001b[0;32m1\u001b[0m\n\u001b[0;31m    WEATHER_API_KEY = 22c65712ceb44c36821235813211806\u001b[0m\n\u001b[0m                        ^\u001b[0m\n\u001b[0;31mSyntaxError\u001b[0m\u001b[0;31m:\u001b[0m invalid syntax\n"
     ]
    }
   ],
   "source": [
    "WEATHER_API_KEY = 22c65712ceb44c36821235813211806"
   ]
  },
  {
   "cell_type": "code",
   "execution_count": 4,
   "id": "ffd8157d",
   "metadata": {},
   "outputs": [
    {
     "ename": "SyntaxError",
     "evalue": "invalid syntax (<ipython-input-4-38caf0dcba37>, line 1)",
     "output_type": "error",
     "traceback": [
      "\u001b[0;36m  File \u001b[0;32m\"<ipython-input-4-38caf0dcba37>\"\u001b[0;36m, line \u001b[0;32m1\u001b[0m\n\u001b[0;31m    LASTFM_API_KEY = 722e15bd98e797f73987458d51c408e7\u001b[0m\n\u001b[0m                           ^\u001b[0m\n\u001b[0;31mSyntaxError\u001b[0m\u001b[0;31m:\u001b[0m invalid syntax\n"
     ]
    }
   ],
   "source": [
    "LASTFM_API_KEY = 722e15bd98e797f73987458d51c408e7"
   ]
  },
  {
   "cell_type": "code",
   "execution_count": null,
   "id": "be3d9909",
   "metadata": {},
   "outputs": [],
   "source": []
  }
 ],
 "metadata": {
  "kernelspec": {
   "display_name": "Python 3",
   "language": "python",
   "name": "python3"
  },
  "language_info": {
   "codemirror_mode": {
    "name": "ipython",
    "version": 3
   },
   "file_extension": ".py",
   "mimetype": "text/x-python",
   "name": "python",
   "nbconvert_exporter": "python",
   "pygments_lexer": "ipython3",
   "version": "3.8.10"
  }
 },
 "nbformat": 4,
 "nbformat_minor": 5
}
